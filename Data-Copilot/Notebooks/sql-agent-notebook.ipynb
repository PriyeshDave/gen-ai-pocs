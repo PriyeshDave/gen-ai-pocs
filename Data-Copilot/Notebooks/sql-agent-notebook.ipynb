{
  "cells": [
    {
      "cell_type": "markdown",
      "metadata": {
        "id": "arlX8FeMtabc"
      },
      "source": [
        "# SQLDatabaseChain "
      ]
    },
    {
      "cell_type": "markdown",
      "metadata": {
        "id": "SodUZXmugnZA"
      },
      "source": [
        "## Installs"
      ]
    },
    {
      "cell_type": "code",
      "execution_count": 1,
      "metadata": {
        "id": "T7tOFd1ttabd"
      },
      "outputs": [],
      "source": [
        "# %%capture\n",
        "# !pip install -q langchain\n",
        "# !pip install -q openai"
      ]
    },
    {
      "cell_type": "markdown",
      "metadata": {
        "id": "hj2WQa9whw7B"
      },
      "source": [
        "# Secret Key"
      ]
    },
    {
      "cell_type": "code",
      "execution_count": 19,
      "metadata": {
        "id": "3uuYhNQXfdmY"
      },
      "outputs": [],
      "source": [
        "import os\n",
        "import json\n",
        "\n",
        "with open('../api_keys.json') as f:\n",
        "    data = json.load(f)\n",
        "     \n",
        "os.environ['OPENAI_API_KEY'] =  data[\"openai_key_1\"]\n",
        "os.environ['GOOGLE_API_KEY'] =  data[\"palm_key\"]\n"
      ]
    },
    {
      "cell_type": "code",
      "execution_count": 16,
      "metadata": {},
      "outputs": [],
      "source": [
        "from langchain.llms import OpenAI"
      ]
    },
    {
      "cell_type": "markdown",
      "metadata": {},
      "source": []
    },
    {
      "cell_type": "markdown",
      "metadata": {},
      "source": []
    },
    {
      "cell_type": "markdown",
      "metadata": {},
      "source": [
        "## Testing Key"
      ]
    },
    {
      "cell_type": "code",
      "execution_count": 14,
      "metadata": {},
      "outputs": [],
      "source": [
        "# ! python3 -m pip install openai\n",
        "# ! python3 -m pip install --upgrade pip\n",
        "# ! python3 -m pip install openai"
      ]
    },
    {
      "cell_type": "code",
      "execution_count": 17,
      "metadata": {},
      "outputs": [],
      "source": [
        "from langchain.llms import OpenAI"
      ]
    },
    {
      "cell_type": "code",
      "execution_count": 21,
      "metadata": {},
      "outputs": [
        {
          "data": {
            "text/plain": [
              "'\\n\\nKohli and Sachin are both Indian cricketers who are considered to be among the greatest batsmen in the history of the sport.\\n\\nSachin Tendulkar, also known as the \"Master Blaster,\" is widely regarded as one of the greatest batsmen of all time. He holds numerous records in international cricket, including the most runs scored and most centuries scored in both Test and ODI matches. He played for the Indian national team from 1989 to 2013 and is often referred to as the \"God of Cricket\" in his home country.\\n\\nVirat Kohli is the current captain of the Indian national team and is widely considered to be one of the best batsmen in the world. He made his international debut in 2008 and has since become one of the most consistent performers in all formats of the game. He is known for his aggressive batting style and has broken several records, including the fastest century by an Indian cricketer in ODI matches.\\n\\nBoth Sachin and Kohli have a huge fan following and have played a significant role in the success of the Indian cricket team. They have also been instrumental in popularizing the sport in their country and inspiring a new generation of cricketers. '"
            ]
          },
          "execution_count": 21,
          "metadata": {},
          "output_type": "execute_result"
        }
      ],
      "source": [
        "llm = OpenAI(temperature=.6)\n",
        "llm(\"tell me about kohli and sachin\")"
      ]
    },
    {
      "cell_type": "markdown",
      "metadata": {},
      "source": []
    },
    {
      "cell_type": "markdown",
      "metadata": {},
      "source": []
    },
    {
      "cell_type": "markdown",
      "metadata": {
        "id": "tvLjsm1Bjxu9"
      },
      "source": [
        "# Converting Pandas to SQL Db"
      ]
    },
    {
      "cell_type": "code",
      "execution_count": 13,
      "metadata": {},
      "outputs": [],
      "source": [
        "# ! pip  install pandas"
      ]
    },
    {
      "cell_type": "code",
      "execution_count": 14,
      "metadata": {},
      "outputs": [],
      "source": [
        "import pandas as pd"
      ]
    },
    {
      "cell_type": "code",
      "execution_count": 15,
      "metadata": {},
      "outputs": [
        {
          "data": {
            "text/html": [
              "<div>\n",
              "<style scoped>\n",
              "    .dataframe tbody tr th:only-of-type {\n",
              "        vertical-align: middle;\n",
              "    }\n",
              "\n",
              "    .dataframe tbody tr th {\n",
              "        vertical-align: top;\n",
              "    }\n",
              "\n",
              "    .dataframe thead th {\n",
              "        text-align: right;\n",
              "    }\n",
              "</style>\n",
              "<table border=\"1\" class=\"dataframe\">\n",
              "  <thead>\n",
              "    <tr style=\"text-align: right;\">\n",
              "      <th></th>\n",
              "      <th>age</th>\n",
              "      <th>sex</th>\n",
              "      <th>bmi</th>\n",
              "      <th>children</th>\n",
              "      <th>smoker</th>\n",
              "      <th>region</th>\n",
              "      <th>charges</th>\n",
              "    </tr>\n",
              "  </thead>\n",
              "  <tbody>\n",
              "    <tr>\n",
              "      <th>0</th>\n",
              "      <td>19</td>\n",
              "      <td>female</td>\n",
              "      <td>27.900</td>\n",
              "      <td>0</td>\n",
              "      <td>yes</td>\n",
              "      <td>southwest</td>\n",
              "      <td>16884.92400</td>\n",
              "    </tr>\n",
              "    <tr>\n",
              "      <th>1</th>\n",
              "      <td>18</td>\n",
              "      <td>male</td>\n",
              "      <td>33.770</td>\n",
              "      <td>1</td>\n",
              "      <td>no</td>\n",
              "      <td>southeast</td>\n",
              "      <td>1725.55230</td>\n",
              "    </tr>\n",
              "    <tr>\n",
              "      <th>2</th>\n",
              "      <td>28</td>\n",
              "      <td>male</td>\n",
              "      <td>33.000</td>\n",
              "      <td>3</td>\n",
              "      <td>no</td>\n",
              "      <td>southeast</td>\n",
              "      <td>4449.46200</td>\n",
              "    </tr>\n",
              "    <tr>\n",
              "      <th>3</th>\n",
              "      <td>33</td>\n",
              "      <td>male</td>\n",
              "      <td>22.705</td>\n",
              "      <td>0</td>\n",
              "      <td>no</td>\n",
              "      <td>northwest</td>\n",
              "      <td>21984.47061</td>\n",
              "    </tr>\n",
              "    <tr>\n",
              "      <th>4</th>\n",
              "      <td>32</td>\n",
              "      <td>male</td>\n",
              "      <td>28.880</td>\n",
              "      <td>0</td>\n",
              "      <td>no</td>\n",
              "      <td>northwest</td>\n",
              "      <td>3866.85520</td>\n",
              "    </tr>\n",
              "    <tr>\n",
              "      <th>...</th>\n",
              "      <td>...</td>\n",
              "      <td>...</td>\n",
              "      <td>...</td>\n",
              "      <td>...</td>\n",
              "      <td>...</td>\n",
              "      <td>...</td>\n",
              "      <td>...</td>\n",
              "    </tr>\n",
              "    <tr>\n",
              "      <th>1333</th>\n",
              "      <td>50</td>\n",
              "      <td>male</td>\n",
              "      <td>30.970</td>\n",
              "      <td>3</td>\n",
              "      <td>no</td>\n",
              "      <td>northwest</td>\n",
              "      <td>10600.54830</td>\n",
              "    </tr>\n",
              "    <tr>\n",
              "      <th>1334</th>\n",
              "      <td>18</td>\n",
              "      <td>female</td>\n",
              "      <td>31.920</td>\n",
              "      <td>0</td>\n",
              "      <td>no</td>\n",
              "      <td>northeast</td>\n",
              "      <td>2205.98080</td>\n",
              "    </tr>\n",
              "    <tr>\n",
              "      <th>1335</th>\n",
              "      <td>18</td>\n",
              "      <td>female</td>\n",
              "      <td>36.850</td>\n",
              "      <td>0</td>\n",
              "      <td>no</td>\n",
              "      <td>southeast</td>\n",
              "      <td>1629.83350</td>\n",
              "    </tr>\n",
              "    <tr>\n",
              "      <th>1336</th>\n",
              "      <td>21</td>\n",
              "      <td>female</td>\n",
              "      <td>25.800</td>\n",
              "      <td>0</td>\n",
              "      <td>no</td>\n",
              "      <td>southwest</td>\n",
              "      <td>2007.94500</td>\n",
              "    </tr>\n",
              "    <tr>\n",
              "      <th>1337</th>\n",
              "      <td>61</td>\n",
              "      <td>female</td>\n",
              "      <td>29.070</td>\n",
              "      <td>0</td>\n",
              "      <td>yes</td>\n",
              "      <td>northwest</td>\n",
              "      <td>29141.36030</td>\n",
              "    </tr>\n",
              "  </tbody>\n",
              "</table>\n",
              "<p>1338 rows × 7 columns</p>\n",
              "</div>"
            ],
            "text/plain": [
              "      age     sex     bmi  children smoker     region      charges\n",
              "0      19  female  27.900         0    yes  southwest  16884.92400\n",
              "1      18    male  33.770         1     no  southeast   1725.55230\n",
              "2      28    male  33.000         3     no  southeast   4449.46200\n",
              "3      33    male  22.705         0     no  northwest  21984.47061\n",
              "4      32    male  28.880         0     no  northwest   3866.85520\n",
              "...   ...     ...     ...       ...    ...        ...          ...\n",
              "1333   50    male  30.970         3     no  northwest  10600.54830\n",
              "1334   18  female  31.920         0     no  northeast   2205.98080\n",
              "1335   18  female  36.850         0     no  southeast   1629.83350\n",
              "1336   21  female  25.800         0     no  southwest   2007.94500\n",
              "1337   61  female  29.070         0    yes  northwest  29141.36030\n",
              "\n",
              "[1338 rows x 7 columns]"
            ]
          },
          "execution_count": 15,
          "metadata": {},
          "output_type": "execute_result"
        }
      ],
      "source": [
        "dataset = pd.read_csv('sample_data.csv')\n",
        "dataset"
      ]
    },
    {
      "cell_type": "code",
      "execution_count": 16,
      "metadata": {},
      "outputs": [
        {
          "data": {
            "text/plain": [
              "Index(['age', 'sex', 'bmi', 'children', 'smoker', 'region', 'charges'], dtype='object')"
            ]
          },
          "execution_count": 16,
          "metadata": {},
          "output_type": "execute_result"
        }
      ],
      "source": [
        "dataset.columns"
      ]
    },
    {
      "cell_type": "code",
      "execution_count": 17,
      "metadata": {
        "id": "qa8gKNDgfyk_"
      },
      "outputs": [
        {
          "name": "stdout",
          "output_type": "stream",
          "text": [
            "(19,)\n",
            "(18,)\n",
            "(28,)\n",
            "(33,)\n",
            "(32,)\n",
            "(31,)\n",
            "(46,)\n",
            "(37,)\n",
            "(37,)\n",
            "(60,)\n",
            "(25,)\n",
            "(62,)\n",
            "(23,)\n",
            "(56,)\n",
            "(27,)\n",
            "(19,)\n",
            "(52,)\n",
            "(23,)\n",
            "(56,)\n",
            "(30,)\n",
            "(60,)\n",
            "(30,)\n",
            "(18,)\n",
            "(34,)\n",
            "(37,)\n",
            "(59,)\n",
            "(63,)\n",
            "(55,)\n",
            "(23,)\n",
            "(31,)\n",
            "(22,)\n",
            "(18,)\n",
            "(19,)\n",
            "(63,)\n",
            "(28,)\n",
            "(19,)\n",
            "(62,)\n",
            "(26,)\n",
            "(35,)\n",
            "(60,)\n",
            "(24,)\n",
            "(31,)\n",
            "(41,)\n",
            "(37,)\n",
            "(38,)\n",
            "(55,)\n",
            "(18,)\n",
            "(28,)\n",
            "(60,)\n",
            "(36,)\n",
            "(18,)\n",
            "(21,)\n",
            "(48,)\n",
            "(36,)\n",
            "(40,)\n",
            "(58,)\n",
            "(58,)\n",
            "(18,)\n",
            "(53,)\n",
            "(34,)\n",
            "(43,)\n",
            "(25,)\n",
            "(64,)\n",
            "(28,)\n",
            "(20,)\n",
            "(19,)\n",
            "(61,)\n",
            "(40,)\n",
            "(40,)\n",
            "(28,)\n",
            "(27,)\n",
            "(31,)\n",
            "(53,)\n",
            "(58,)\n",
            "(44,)\n",
            "(57,)\n",
            "(29,)\n",
            "(21,)\n",
            "(22,)\n",
            "(41,)\n",
            "(31,)\n",
            "(45,)\n",
            "(22,)\n",
            "(48,)\n",
            "(37,)\n",
            "(45,)\n",
            "(57,)\n",
            "(56,)\n",
            "(46,)\n",
            "(55,)\n",
            "(21,)\n",
            "(53,)\n",
            "(59,)\n",
            "(35,)\n",
            "(64,)\n",
            "(28,)\n",
            "(54,)\n",
            "(55,)\n",
            "(56,)\n",
            "(38,)\n"
          ]
        }
      ],
      "source": [
        "import numpy as np\n",
        "import pandas as pd\n",
        "import sqlite3\n",
        "\n",
        "df = pd.read_csv(\"sample_data.csv\")\n",
        "\n",
        "\n",
        "conn = sqlite3.connect('sample_db.sqlite')\n",
        "c = conn.cursor()\n",
        "\n",
        "c.execute('CREATE TABLE IF NOT EXISTS sample_db (age int, sex text, bmi float, children int, smoker text, religion text, charges float)')\n",
        "conn.commit()\n",
        "\n",
        "df.to_sql('sample_db', conn, if_exists='replace', index = False)\n",
        "\n",
        "c.execute('''\n",
        "SELECT age FROM sample_db LIMIT 100\n",
        "          ''')\n",
        "\n",
        "for row in c.fetchall():\n",
        "    print (row)"
      ]
    },
    {
      "cell_type": "markdown",
      "metadata": {
        "id": "urDjpvWtj404"
      },
      "source": [
        "# Reading the DB"
      ]
    },
    {
      "cell_type": "code",
      "execution_count": 18,
      "metadata": {
        "id": "dG96BwyVfyEx"
      },
      "outputs": [],
      "source": [
        "def read_sql_query(sql, db):\n",
        "    conn = sqlite3.connect(db)\n",
        "    cur = conn.cursor()\n",
        "    cur.execute(sql)\n",
        "    rows = cur.fetchall()\n",
        "    for row in rows:\n",
        "        print(row)\n",
        "    conn.close()"
      ]
    },
    {
      "cell_type": "code",
      "execution_count": 19,
      "metadata": {
        "colab": {
          "base_uri": "https://localhost:8080/"
        },
        "id": "P17T9MwgiFCL",
        "outputId": "1e27a2ab-47c2-4948-fd3e-4a923ea496b1"
      },
      "outputs": [
        {
          "name": "stdout",
          "output_type": "stream",
          "text": [
            "(19, 'female', 27.9, 0, 'yes', 'southwest', 16884.924)\n",
            "(18, 'male', 33.77, 1, 'no', 'southeast', 1725.5523)\n",
            "(28, 'male', 33.0, 3, 'no', 'southeast', 4449.462)\n",
            "(33, 'male', 22.705, 0, 'no', 'northwest', 21984.47061)\n",
            "(32, 'male', 28.88, 0, 'no', 'northwest', 3866.8552)\n",
            "(31, 'female', 25.74, 0, 'no', 'southeast', 3756.6216)\n",
            "(46, 'female', 33.44, 1, 'no', 'southeast', 8240.5896)\n",
            "(37, 'female', 27.74, 3, 'no', 'northwest', 7281.5056)\n",
            "(37, 'male', 29.83, 2, 'no', 'northeast', 6406.4107)\n",
            "(60, 'female', 25.84, 0, 'no', 'northwest', 28923.13692)\n"
          ]
        }
      ],
      "source": [
        "import sqlite3\n",
        "read_sql_query('SELECT * FROM sample_db LIMIT 10;',\n",
        "               \"sample_db.sqlite\")"
      ]
    },
    {
      "cell_type": "markdown",
      "metadata": {
        "id": "nBztCNQakElE"
      },
      "source": [
        "# Langchain SQL Agent"
      ]
    },
    {
      "cell_type": "code",
      "execution_count": 20,
      "metadata": {},
      "outputs": [],
      "source": [
        "# ! pip install langchain_experimental"
      ]
    },
    {
      "cell_type": "code",
      "execution_count": 21,
      "metadata": {},
      "outputs": [],
      "source": [
        "from langchain.llms import OpenAI\n",
        "from langchain.sql_database import SQLDatabase\n",
        "from langchain_experimental.sql import SQLDatabaseChain"
      ]
    },
    {
      "cell_type": "code",
      "execution_count": 22,
      "metadata": {
        "id": "g1QeyHrvil6Z"
      },
      "outputs": [
        {
          "name": "stderr",
          "output_type": "stream",
          "text": [
            "d:\\Workspace\\Repository\\2024\\Learnings\\GenAI\\gen_ai_venv\\lib\\site-packages\\langchain_core\\_api\\deprecation.py:189: LangChainDeprecationWarning: The class `OpenAI` was deprecated in LangChain 0.1.0 and will be removed in 0.2.0. Use langchain_openai.OpenAI instead.\n",
            "  warn_deprecated(\n"
          ]
        }
      ],
      "source": [
        "input_db = SQLDatabase.from_uri('sqlite:///sample_db.sqlite')\n",
        "llm_1 = OpenAI(temperature=0)"
      ]
    },
    {
      "cell_type": "code",
      "execution_count": 23,
      "metadata": {
        "colab": {
          "base_uri": "https://localhost:8080/"
        },
        "id": "bwVDUTJ4il8c",
        "outputId": "594676ed-4b99-48a1-b782-8e7765f5d8c5"
      },
      "outputs": [
        {
          "name": "stderr",
          "output_type": "stream",
          "text": [
            "d:\\Workspace\\Repository\\2024\\Learnings\\GenAI\\gen_ai_venv\\lib\\site-packages\\langchain_experimental\\sql\\base.py:76: UserWarning: Directly instantiating an SQLDatabaseChain with an llm is deprecated. Please instantiate with llm_chain argument or using the from_llm class method.\n",
            "  warnings.warn(\n"
          ]
        }
      ],
      "source": [
        "db_agent = SQLDatabaseChain(llm = llm_1,\n",
        "                            database = input_db,\n",
        "                            verbose=True)"
      ]
    },
    {
      "cell_type": "code",
      "execution_count": 24,
      "metadata": {},
      "outputs": [
        {
          "data": {
            "text/html": [
              "<div>\n",
              "<style scoped>\n",
              "    .dataframe tbody tr th:only-of-type {\n",
              "        vertical-align: middle;\n",
              "    }\n",
              "\n",
              "    .dataframe tbody tr th {\n",
              "        vertical-align: top;\n",
              "    }\n",
              "\n",
              "    .dataframe thead th {\n",
              "        text-align: right;\n",
              "    }\n",
              "</style>\n",
              "<table border=\"1\" class=\"dataframe\">\n",
              "  <thead>\n",
              "    <tr style=\"text-align: right;\">\n",
              "      <th></th>\n",
              "      <th>age</th>\n",
              "      <th>sex</th>\n",
              "      <th>bmi</th>\n",
              "      <th>children</th>\n",
              "      <th>smoker</th>\n",
              "      <th>region</th>\n",
              "      <th>charges</th>\n",
              "    </tr>\n",
              "  </thead>\n",
              "  <tbody>\n",
              "    <tr>\n",
              "      <th>0</th>\n",
              "      <td>19</td>\n",
              "      <td>female</td>\n",
              "      <td>27.900</td>\n",
              "      <td>0</td>\n",
              "      <td>yes</td>\n",
              "      <td>southwest</td>\n",
              "      <td>16884.92400</td>\n",
              "    </tr>\n",
              "    <tr>\n",
              "      <th>1</th>\n",
              "      <td>18</td>\n",
              "      <td>male</td>\n",
              "      <td>33.770</td>\n",
              "      <td>1</td>\n",
              "      <td>no</td>\n",
              "      <td>southeast</td>\n",
              "      <td>1725.55230</td>\n",
              "    </tr>\n",
              "    <tr>\n",
              "      <th>2</th>\n",
              "      <td>28</td>\n",
              "      <td>male</td>\n",
              "      <td>33.000</td>\n",
              "      <td>3</td>\n",
              "      <td>no</td>\n",
              "      <td>southeast</td>\n",
              "      <td>4449.46200</td>\n",
              "    </tr>\n",
              "    <tr>\n",
              "      <th>3</th>\n",
              "      <td>33</td>\n",
              "      <td>male</td>\n",
              "      <td>22.705</td>\n",
              "      <td>0</td>\n",
              "      <td>no</td>\n",
              "      <td>northwest</td>\n",
              "      <td>21984.47061</td>\n",
              "    </tr>\n",
              "    <tr>\n",
              "      <th>4</th>\n",
              "      <td>32</td>\n",
              "      <td>male</td>\n",
              "      <td>28.880</td>\n",
              "      <td>0</td>\n",
              "      <td>no</td>\n",
              "      <td>northwest</td>\n",
              "      <td>3866.85520</td>\n",
              "    </tr>\n",
              "  </tbody>\n",
              "</table>\n",
              "</div>"
            ],
            "text/plain": [
              "   age     sex     bmi  children smoker     region      charges\n",
              "0   19  female  27.900         0    yes  southwest  16884.92400\n",
              "1   18    male  33.770         1     no  southeast   1725.55230\n",
              "2   28    male  33.000         3     no  southeast   4449.46200\n",
              "3   33    male  22.705         0     no  northwest  21984.47061\n",
              "4   32    male  28.880         0     no  northwest   3866.85520"
            ]
          },
          "execution_count": 24,
          "metadata": {},
          "output_type": "execute_result"
        }
      ],
      "source": [
        "dataset.head()"
      ]
    },
    {
      "cell_type": "markdown",
      "metadata": {
        "id": "xjMuQkB8BnFF"
      },
      "source": [
        "# Question 1"
      ]
    },
    {
      "cell_type": "code",
      "execution_count": 26,
      "metadata": {
        "colab": {
          "base_uri": "https://localhost:8080/",
          "height": 174
        },
        "id": "RDovCG0Eil_W",
        "outputId": "ba565125-63d1-4c11-e6e0-c4d702909880"
      },
      "outputs": [
        {
          "name": "stdout",
          "output_type": "stream",
          "text": [
            "\n",
            "\n",
            "\u001b[1m> Entering new SQLDatabaseChain chain...\u001b[0m\n",
            "how many rows are there?\n",
            "SQLQuery:\u001b[32;1m\u001b[1;3mSELECT COUNT(*) FROM sample_db\u001b[0m\n",
            "SQLResult: \u001b[33;1m\u001b[1;3m[(1338,)]\u001b[0m\n",
            "Answer:\u001b[32;1m\u001b[1;3m1338\u001b[0m\n",
            "\u001b[1m> Finished chain.\u001b[0m\n"
          ]
        },
        {
          "data": {
            "text/plain": [
              "'1338'"
            ]
          },
          "execution_count": 26,
          "metadata": {},
          "output_type": "execute_result"
        }
      ],
      "source": [
        "db_agent.run(\"how many rows are there?\")"
      ]
    },
    {
      "cell_type": "markdown",
      "metadata": {
        "id": "XG61vLA0BozA"
      },
      "source": [
        "# Question 2"
      ]
    },
    {
      "cell_type": "code",
      "execution_count": 27,
      "metadata": {
        "colab": {
          "base_uri": "https://localhost:8080/",
          "height": 174
        },
        "id": "q7Wkx6EKiFHG",
        "outputId": "91049420-6107-45c2-a9c2-11f796094fab"
      },
      "outputs": [
        {
          "name": "stdout",
          "output_type": "stream",
          "text": [
            "\n",
            "\n",
            "\u001b[1m> Entering new SQLDatabaseChain chain...\u001b[0m\n",
            "how many females are smokers?\n",
            "SQLQuery:\u001b[32;1m\u001b[1;3mSELECT COUNT(*) FROM sample_db WHERE sex = \"female\" AND smoker = \"yes\"\u001b[0m\n",
            "SQLResult: \u001b[33;1m\u001b[1;3m[(115,)]\u001b[0m\n",
            "Answer:\u001b[32;1m\u001b[1;3m115\u001b[0m\n",
            "\u001b[1m> Finished chain.\u001b[0m\n"
          ]
        },
        {
          "data": {
            "text/plain": [
              "'115'"
            ]
          },
          "execution_count": 27,
          "metadata": {},
          "output_type": "execute_result"
        }
      ],
      "source": [
        "db_agent.run(\"how many females are smokers?\")"
      ]
    },
    {
      "cell_type": "markdown",
      "metadata": {
        "id": "GN4P3XzJBsgD"
      },
      "source": [
        "# Question 3"
      ]
    },
    {
      "cell_type": "code",
      "execution_count": 29,
      "metadata": {
        "colab": {
          "base_uri": "https://localhost:8080/",
          "height": 194
        },
        "id": "nADLtzRGjJE8",
        "outputId": "080f0fb4-800e-4edd-8640-c31fbc56946b"
      },
      "outputs": [
        {
          "name": "stdout",
          "output_type": "stream",
          "text": [
            "\n",
            "\n",
            "\u001b[1m> Entering new SQLDatabaseChain chain...\u001b[0m\n",
            "Can you give me all the details of the smoker females with bmi above 30?\n",
            "SQLQuery:\u001b[32;1m\u001b[1;3mSELECT \"age\", \"sex\", \"bmi\", \"children\", \"smoker\", \"region\", \"charges\" FROM sample_db WHERE \"sex\" = 'female' AND \"smoker\" = 'yes' AND \"bmi\" > 30 LIMIT 5\u001b[0m\n",
            "SQLResult: \u001b[33;1m\u001b[1;3m[(34, 'female', 31.92, 1, 'yes', 'northeast', 37701.8768), (37, 'female', 34.8, 2, 'yes', 'southwest', 39836.519), (57, 'female', 31.16, 0, 'yes', 'northwest', 43578.9394), (64, 'female', 31.3, 2, 'yes', 'southwest', 47291.055), (18, 'female', 36.85, 0, 'yes', 'southeast', 36149.4835)]\u001b[0m\n",
            "Answer:\u001b[32;1m\u001b[1;3mThe details of the smoker females with bmi above 30 are: age, sex, bmi, children, smoker, region, and charges.\u001b[0m\n",
            "\u001b[1m> Finished chain.\u001b[0m\n"
          ]
        },
        {
          "data": {
            "text/plain": [
              "'The details of the smoker females with bmi above 30 are: age, sex, bmi, children, smoker, region, and charges.'"
            ]
          },
          "execution_count": 29,
          "metadata": {},
          "output_type": "execute_result"
        }
      ],
      "source": [
        "db_agent.run(\"Can you give me all the details of the smoker females with bmi above 30?\")"
      ]
    },
    {
      "cell_type": "markdown",
      "metadata": {
        "id": "7l289EzUBuOD"
      },
      "source": [
        "# Question 4"
      ]
    },
    {
      "cell_type": "code",
      "execution_count": 38,
      "metadata": {
        "colab": {
          "base_uri": "https://localhost:8080/",
          "height": 194
        },
        "id": "byC6friejJHt",
        "outputId": "14b59b06-3fc8-43d8-d541-ba56911eaa55"
      },
      "outputs": [
        {
          "name": "stdout",
          "output_type": "stream",
          "text": [
            "\n",
            "\n",
            "\u001b[1m> Entering new SQLDatabaseChain chain...\u001b[0m\n",
            "give me the details about the males from southwest having 2 childrens\n",
            "SQLQuery:\u001b[32;1m\u001b[1;3mSELECT \"age\", \"bmi\", \"smoker\", \"region\", \"charges\" FROM sample_db WHERE sex = \"male\" AND region = \"southwest\" AND children = 2 LIMIT 5\u001b[0m\n",
            "SQLResult: \u001b[33;1m\u001b[1;3m[(31, 36.3, 'yes', 'southwest', 38711.0), (44, 27.4, 'no', 'southwest', 7726.854), (44, 37.1, 'no', 'southwest', 7740.337), (38, 34.7, 'no', 'southwest', 6082.405), (50, 34.2, 'yes', 'southwest', 42856.838)]\u001b[0m\n",
            "Answer:\u001b[32;1m\u001b[1;3mThere are 5 males from southwest with 2 childrens.\u001b[0m\n",
            "\u001b[1m> Finished chain.\u001b[0m\n"
          ]
        },
        {
          "data": {
            "text/plain": [
              "'There are 5 males from southwest with 2 childrens.'"
            ]
          },
          "execution_count": 38,
          "metadata": {},
          "output_type": "execute_result"
        }
      ],
      "source": [
        "db_agent.run(\"give me the details about the males from southwest having 2 childrens\")"
      ]
    }
  ],
  "metadata": {
    "colab": {
      "collapsed_sections": [
        "XG61vLA0BozA",
        "GN4P3XzJBsgD",
        "7l289EzUBuOD"
      ],
      "provenance": []
    },
    "kernelspec": {
      "display_name": "Python 3",
      "name": "python3"
    },
    "language_info": {
      "codemirror_mode": {
        "name": "ipython",
        "version": 3
      },
      "file_extension": ".py",
      "mimetype": "text/x-python",
      "name": "python",
      "nbconvert_exporter": "python",
      "pygments_lexer": "ipython3",
      "version": "3.11.5"
    }
  },
  "nbformat": 4,
  "nbformat_minor": 0
}
